{
 "cells": [
  {
   "cell_type": "code",
   "execution_count": 1,
   "metadata": {},
   "outputs": [],
   "source": [
    "import pandas as pd"
   ]
  },
  {
   "cell_type": "markdown",
   "metadata": {},
   "source": [
    "<u>**MODULE FOR FINANCIAL STATEMENTS**</u>\n",
    "\n",
    " This is a module that reads through financial statements in a CSV format.\n",
    " It can perform certain functions such as: \n",
    "\n",
    "- Selecting the exact financial statement file.\n",
    "- Extracting a particular date that's needed to read through a transaction.\n",
    "- Searching for any keyword in the remarks such as a Name, VAT, Transfer, charges etc while showing the transaction attached to it.\n",
    "- Fetches References , Credits, Debits, Balance\n",
    "\n",
    "Note: The file must be in a CSV format and correspond to the following words seen in any Financial Statements which are: Dates, Remarks, Reference, Credit, Debit, Balance.\n",
    "The arrangements doesn't matter."
   ]
  },
  {
   "cell_type": "code",
   "execution_count": 2,
   "metadata": {},
   "outputs": [
    {
     "name": "stdout",
     "output_type": "stream",
     "text": [
      "Insert your document name in CSV format :    fin_statement.csv\n",
      "Enter date of transaction needed in dd-mm-yy format: 3-sep-20\n"
     ]
    },
    {
     "data": {
      "text/html": [
       "<div>\n",
       "<style scoped>\n",
       "    .dataframe tbody tr th:only-of-type {\n",
       "        vertical-align: middle;\n",
       "    }\n",
       "\n",
       "    .dataframe tbody tr th {\n",
       "        vertical-align: top;\n",
       "    }\n",
       "\n",
       "    .dataframe thead th {\n",
       "        text-align: right;\n",
       "    }\n",
       "</style>\n",
       "<table border=\"1\" class=\"dataframe\">\n",
       "  <thead>\n",
       "    <tr style=\"text-align: right;\">\n",
       "      <th></th>\n",
       "      <th>Date</th>\n",
       "      <th>Debit</th>\n",
       "      <th>Credit</th>\n",
       "      <th>Balance</th>\n",
       "      <th>Remarks</th>\n",
       "    </tr>\n",
       "  </thead>\n",
       "  <tbody>\n",
       "    <tr>\n",
       "      <th>2</th>\n",
       "      <td>2020-09-03</td>\n",
       "      <td>NaN</td>\n",
       "      <td>68</td>\n",
       "      <td>208,791.21</td>\n",
       "      <td>OWN ACCOUNT TRANSFER REF:811361352000000000682...</td>\n",
       "    </tr>\n",
       "  </tbody>\n",
       "</table>\n",
       "</div>"
      ],
      "text/plain": [
       "        Date Debit Credit     Balance  \\\n",
       "2 2020-09-03   NaN     68  208,791.21   \n",
       "\n",
       "                                             Remarks  \n",
       "2  OWN ACCOUNT TRANSFER REF:811361352000000000682...  "
      ]
     },
     "execution_count": 2,
     "metadata": {},
     "output_type": "execute_result"
    }
   ],
   "source": [
    "class FinStatement:\n",
    "\n",
    "    def get_doc(self):\n",
    "\n",
    "        doc = (input('Insert your document name in CSV format :    ' ))\n",
    "        df = pd.read_csv(doc)\n",
    "        return df\n",
    "\n",
    "    def get_date(self):\n",
    "\n",
    "        g_doc = self.get_doc()\n",
    "        g_doc[\"Date\"] = pd.to_datetime(g_doc[\"Date\"])\n",
    "\n",
    "        date = str(input(\"Enter date of transaction needed in dd-mm-yy format: \"))\n",
    "        dates = g_doc[g_doc[\"Date\"] == \"{}\".format(date)]\n",
    "\n",
    "        return dates\n",
    "\n",
    "    def get_comment(self):\n",
    "\n",
    "        g_doc = self.get_doc()\n",
    "        group = g_doc.groupby('Remarks')\n",
    "        search = str(input(\"Enter whatever you need from the remark a Name, VAT etc:  \"))\n",
    "        gt = gk.get_group(search)\n",
    "\n",
    "        return gt\n",
    "\n",
    "    def get_ref(self):\n",
    "\n",
    "        g_doc = self.get_doc()\n",
    "        group = g_doc.groupby('Reference')\n",
    "        ref = str(input(\"Enter reference number : \" ))\n",
    "        get = group.get_group(float(ref))\n",
    "\n",
    "        return get\n",
    "\n",
    "    def get_debit(self):\n",
    "\n",
    "        g_doc = self.get_doc()\n",
    "        get = str(input('Enter debit amount :  ₦'))\n",
    "        get_it = g_doc[g_doc.Debit == '{}'.format(get)]\n",
    "\n",
    "        return get_it\n",
    "\n",
    "    def get_credit(self):\n",
    "\n",
    "        g_doc = self.get_doc()\n",
    "        get = str(input('Enter credit amount :  ₦'))\n",
    "        get_it = g_doc[g_doc.Credit == '{}'.format(get)]\n",
    "\n",
    "        return get_it\n",
    "\n",
    "    def get_bal(self):\n",
    "\n",
    "        g_doc = self.get_doc()\n",
    "        get = str(input('Enter balance amount :  ₦'))\n",
    "        get_it = g_doc[g_doc.Balance == '{}'.format(get)]\n",
    "\n",
    "        return get_it\n",
    "    \n",
    "x = FinStatement()\n",
    "\n",
    "# x.get_doc()\n",
    "x.get_date()\n",
    "# x.get_comment()\n",
    "# x.get_ref()\n",
    "# x.get_debit()\n",
    "# x.get_credit()\n",
    "# x.get_bal()"
   ]
  },
  {
   "cell_type": "code",
   "execution_count": null,
   "metadata": {},
   "outputs": [],
   "source": []
  }
 ],
 "metadata": {
  "kernelspec": {
   "display_name": "Python 3",
   "language": "python",
   "name": "python3"
  },
  "language_info": {
   "codemirror_mode": {
    "name": "ipython",
    "version": 3
   },
   "file_extension": ".py",
   "mimetype": "text/x-python",
   "name": "python",
   "nbconvert_exporter": "python",
   "pygments_lexer": "ipython3",
   "version": "3.7.8"
  }
 },
 "nbformat": 4,
 "nbformat_minor": 4
}
